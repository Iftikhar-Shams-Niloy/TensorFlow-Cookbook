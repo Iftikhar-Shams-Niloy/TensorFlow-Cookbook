{
  "nbformat": 4,
  "nbformat_minor": 0,
  "metadata": {
    "colab": {
      "provenance": [],
      "authorship_tag": "ABX9TyNXNWHoorX0WqGP73RP7o3y",
      "include_colab_link": true
    },
    "kernelspec": {
      "name": "python3",
      "display_name": "Python 3"
    },
    "language_info": {
      "name": "python"
    }
  },
  "cells": [
    {
      "cell_type": "markdown",
      "metadata": {
        "id": "view-in-github",
        "colab_type": "text"
      },
      "source": [
        "<a href=\"https://colab.research.google.com/github/Iftikhar-Shams-Niloy/TensorFlow-Cookbook/blob/main/1_Fundamentals_of_TensorFlow.ipynb\" target=\"_parent\"><img src=\"https://colab.research.google.com/assets/colab-badge.svg\" alt=\"Open In Colab\"/></a>"
      ]
    },
    {
      "cell_type": "markdown",
      "source": [
        "# This notebook covers the following:\n",
        "\n",
        "1.  Tensors Introduction\n",
        "2.  Information from Tensors\n",
        "3.  Tensors Manipulation\n",
        "4.  Tensors & NumPy\n",
        "5.  Using @tf.function (Speeding up regular python functions)\n",
        "6.  Using GPUs with TensorFlow (or TPUs)\n",
        "7.  Exercises on the topics above.\n",
        "\n"
      ],
      "metadata": {
        "id": "lhWp95rtElbe"
      }
    },
    {
      "cell_type": "markdown",
      "source": [
        "# Tensors Introduction"
      ],
      "metadata": {
        "id": "hwhMz8ovF0U0"
      }
    },
    {
      "cell_type": "markdown",
      "source": [
        "## Import TensorFlow"
      ],
      "metadata": {
        "id": "dwO4s_NFF32J"
      }
    },
    {
      "cell_type": "code",
      "source": [
        "import tensorflow as tf\n",
        "import tensorflow_probability as tfp\n",
        "print(tf.__version__)"
      ],
      "metadata": {
        "colab": {
          "base_uri": "https://localhost:8080/"
        },
        "id": "TgA5yhTcEk4I",
        "outputId": "655e44e2-6c61-4cdc-a23a-580f3aea1e1d"
      },
      "execution_count": null,
      "outputs": [
        {
          "output_type": "stream",
          "name": "stdout",
          "text": [
            "2.18.0\n"
          ]
        }
      ]
    },
    {
      "cell_type": "markdown",
      "source": [
        "## Create Tensor with ```tf.constant()```\n",
        "\n"
      ],
      "metadata": {
        "id": "Mz2xOLcRF6n1"
      }
    },
    {
      "cell_type": "code",
      "execution_count": null,
      "metadata": {
        "id": "LBa1vo4EBSzr",
        "colab": {
          "base_uri": "https://localhost:8080/"
        },
        "outputId": "90084b32-6349-48f6-fbbb-c25308eacc42"
      },
      "outputs": [
        {
          "output_type": "execute_result",
          "data": {
            "text/plain": [
              "<tf.Tensor: shape=(), dtype=int32, numpy=7>"
            ]
          },
          "metadata": {},
          "execution_count": 2
        }
      ],
      "source": [
        "scalar = tf.constant(7)\n",
        "scalar"
      ]
    },
    {
      "cell_type": "markdown",
      "source": [
        "## Checking the number of dimensions"
      ],
      "metadata": {
        "id": "5CqWbN5uGPtX"
      }
    },
    {
      "cell_type": "code",
      "source": [
        "print(scalar.ndim)"
      ],
      "metadata": {
        "colab": {
          "base_uri": "https://localhost:8080/"
        },
        "id": "PquAFheoGN4O",
        "outputId": "2a1917f6-e608-42ed-8198-bba0dbe8b3a3"
      },
      "execution_count": null,
      "outputs": [
        {
          "output_type": "stream",
          "name": "stdout",
          "text": [
            "0\n"
          ]
        }
      ]
    },
    {
      "cell_type": "markdown",
      "source": [
        "## Create a vector"
      ],
      "metadata": {
        "id": "xa5g20jZGaQT"
      }
    },
    {
      "cell_type": "code",
      "source": [
        "my_vector = tf.constant([10, 11, 12])\n",
        "print(my_vector)\n",
        "print(my_vector.ndim)"
      ],
      "metadata": {
        "colab": {
          "base_uri": "https://localhost:8080/"
        },
        "id": "bdJ-JPTeGV3X",
        "outputId": "830070af-b5e7-48dd-d498-ec60cd5c910d"
      },
      "execution_count": null,
      "outputs": [
        {
          "output_type": "stream",
          "name": "stdout",
          "text": [
            "tf.Tensor([10 11 12], shape=(3,), dtype=int32)\n",
            "1\n"
          ]
        }
      ]
    },
    {
      "cell_type": "markdown",
      "source": [
        "## Create multi-dimensional matrix"
      ],
      "metadata": {
        "id": "nj9qfK9ZGl_1"
      }
    },
    {
      "cell_type": "code",
      "source": [
        "my_matrix = tf.constant([[10, 11, 12],\n",
        "                        [21, 22, 23],\n",
        "                        [31, 32, 33]])\n",
        "print(my_matrix)\n",
        "print(\"MATRIX DIMENTIONS:\",my_matrix.ndim)"
      ],
      "metadata": {
        "colab": {
          "base_uri": "https://localhost:8080/"
        },
        "id": "MgULJyRXGlKS",
        "outputId": "58ec0cb9-46c6-4f9a-86ea-56e21c473fb7"
      },
      "execution_count": null,
      "outputs": [
        {
          "output_type": "stream",
          "name": "stdout",
          "text": [
            "tf.Tensor(\n",
            "[[10 11 12]\n",
            " [21 22 23]\n",
            " [31 32 33]], shape=(3, 3), dtype=int32)\n",
            "MATRIX DIMENTIONS: 2\n"
          ]
        }
      ]
    },
    {
      "cell_type": "code",
      "source": [
        "my_matrix2 = tf.constant([[10, 11, 12],\n",
        "                        [21, 22, 23],\n",
        "                        [31, 32, 33]], dtype=tf.float16)\n",
        "print(my_matrix2)"
      ],
      "metadata": {
        "colab": {
          "base_uri": "https://localhost:8080/"
        },
        "id": "S330mHAHG9A8",
        "outputId": "0de599d1-7884-466e-9514-5930748d583f"
      },
      "execution_count": null,
      "outputs": [
        {
          "output_type": "stream",
          "name": "stdout",
          "text": [
            "tf.Tensor(\n",
            "[[10. 11. 12.]\n",
            " [21. 22. 23.]\n",
            " [31. 32. 33.]], shape=(3, 3), dtype=float16)\n"
          ]
        }
      ]
    },
    {
      "cell_type": "code",
      "source": [
        "my_matrix3 = tf.constant([[[1,2,3],\n",
        "                           [4,5,6]],\n",
        "\n",
        "                           [[11, 22, 33],\n",
        "                           [44,55,66]],\n",
        "\n",
        "                           [[111,222,333],\n",
        "                          [444,555,666]]])\n",
        "print(my_matrix3)\n",
        "print(\"MATRIX DIMENTIONS:\",my_matrix3.ndim)"
      ],
      "metadata": {
        "colab": {
          "base_uri": "https://localhost:8080/"
        },
        "id": "I79OgUguHYAV",
        "outputId": "c2d91b77-514f-47f5-ea56-1066067258cb"
      },
      "execution_count": null,
      "outputs": [
        {
          "output_type": "stream",
          "name": "stdout",
          "text": [
            "tf.Tensor(\n",
            "[[[  1   2   3]\n",
            "  [  4   5   6]]\n",
            "\n",
            " [[ 11  22  33]\n",
            "  [ 44  55  66]]\n",
            "\n",
            " [[111 222 333]\n",
            "  [444 555 666]]], shape=(3, 2, 3), dtype=int32)\n",
            "MATRIX DIMENTIONS: 3\n"
          ]
        }
      ]
    },
    {
      "cell_type": "markdown",
      "source": [
        "## Creating tensors using ```tf.Variable()```"
      ],
      "metadata": {
        "id": "NubPhv7bIpc7"
      }
    },
    {
      "cell_type": "code",
      "source": [
        "variable_tensor = tf.Variable([1,2,3])\n",
        "constant_tensor = tf.constant([4,5,6])\n",
        "print(\"Variable tensor:\", variable_tensor)\n",
        "print(\"Constant tensor:\", constant_tensor)"
      ],
      "metadata": {
        "colab": {
          "base_uri": "https://localhost:8080/"
        },
        "id": "oijeWKCvIQDI",
        "outputId": "3f8380fe-7e94-4580-83cb-367e3d4d97e3"
      },
      "execution_count": null,
      "outputs": [
        {
          "output_type": "stream",
          "name": "stdout",
          "text": [
            "Variable tensor: <tf.Variable 'Variable:0' shape=(3,) dtype=int32, numpy=array([1, 2, 3], dtype=int32)>\n",
            "Constant tensor: tf.Tensor([4 5 6], shape=(3,), dtype=int32)\n"
          ]
        }
      ]
    },
    {
      "cell_type": "markdown",
      "source": [
        "We can change the variable_tensor like a 'list' but using specific function. However, we cannot change constant_tensor after making one."
      ],
      "metadata": {
        "id": "QLi9qcftJiat"
      }
    },
    {
      "cell_type": "code",
      "source": [
        "variable_tensor[0].assign(10)\n",
        "print(variable_tensor.value())"
      ],
      "metadata": {
        "colab": {
          "base_uri": "https://localhost:8080/"
        },
        "id": "mRw9TdR6JPDs",
        "outputId": "7f257247-102c-47c0-cc4a-21c11ad51271"
      },
      "execution_count": null,
      "outputs": [
        {
          "output_type": "stream",
          "name": "stdout",
          "text": [
            "tf.Tensor([10  2  3], shape=(3,), dtype=int32)\n"
          ]
        }
      ]
    },
    {
      "cell_type": "markdown",
      "source": [
        "## Creating randor tensors using ```tf.random```"
      ],
      "metadata": {
        "id": "qn1ruk5dJ_Z_"
      }
    },
    {
      "cell_type": "code",
      "source": [
        "my_random = tf.random.Generator.from_seed(42)\n",
        "my_random = my_random.normal(shape=(3,2))\n",
        "print(my_random)"
      ],
      "metadata": {
        "colab": {
          "base_uri": "https://localhost:8080/"
        },
        "id": "CLjaQeZBJX1-",
        "outputId": "f7eceb03-b6e1-43af-d3d6-c7afefbdbc22"
      },
      "execution_count": null,
      "outputs": [
        {
          "output_type": "stream",
          "name": "stdout",
          "text": [
            "tf.Tensor(\n",
            "[[-0.7565803  -0.06854702]\n",
            " [ 0.07595026 -1.2573844 ]\n",
            " [-0.23193763 -1.8107855 ]], shape=(3, 2), dtype=float32)\n"
          ]
        }
      ]
    },
    {
      "cell_type": "markdown",
      "source": [
        "## Shuffling orders in Tensor"
      ],
      "metadata": {
        "id": "l9b2IBlxLvaV"
      }
    },
    {
      "cell_type": "code",
      "source": [
        "my_random_shuffle = tf.random.shuffle(my_random)\n",
        "print(my_random_shuffle)"
      ],
      "metadata": {
        "colab": {
          "base_uri": "https://localhost:8080/"
        },
        "id": "GZ3iwtOhK8xC",
        "outputId": "7a7668b2-07fa-47d0-ccf3-75889881d694"
      },
      "execution_count": null,
      "outputs": [
        {
          "output_type": "stream",
          "name": "stdout",
          "text": [
            "tf.Tensor(\n",
            "[[-0.23193763 -1.8107855 ]\n",
            " [ 0.07595026 -1.2573844 ]\n",
            " [-0.7565803  -0.06854702]], shape=(3, 2), dtype=float32)\n"
          ]
        }
      ]
    },
    {
      "cell_type": "markdown",
      "source": [
        "If we want to shuffle tensor in the same order each time (use seeding), we need to set the global seeding as well as seeding inside the shuffle() function to achieve what we are trying to achieve. An example is given below:"
      ],
      "metadata": {
        "id": "hgKAxirKPNrj"
      }
    },
    {
      "cell_type": "code",
      "source": [
        "tf.random.set_seed(42)\n",
        "my_random_shuffle2 = tf.random.shuffle(my_random, seed=42)\n",
        "print(my_random_shuffle2)"
      ],
      "metadata": {
        "colab": {
          "base_uri": "https://localhost:8080/"
        },
        "id": "9AwfWksqMpia",
        "outputId": "824eb971-0b11-45a7-e05b-36e8f41f489e"
      },
      "execution_count": null,
      "outputs": [
        {
          "output_type": "stream",
          "name": "stdout",
          "text": [
            "tf.Tensor(\n",
            "[[-0.7565803  -0.06854702]\n",
            " [ 0.07595026 -1.2573844 ]\n",
            " [-0.23193763 -1.8107855 ]], shape=(3, 2), dtype=float32)\n"
          ]
        }
      ]
    },
    {
      "cell_type": "markdown",
      "source": [
        "## Creating zeros and ones tensors"
      ],
      "metadata": {
        "id": "vEP7oVVFPwo_"
      }
    },
    {
      "cell_type": "code",
      "source": [
        "my_zeros = tf.zeros(shape=(3,3))\n",
        "print(my_zeros)\n",
        "\n",
        "my_ones = tf.ones(shape=(3,3))\n",
        "print(my_ones)"
      ],
      "metadata": {
        "colab": {
          "base_uri": "https://localhost:8080/"
        },
        "id": "T5pvMMeXPmNB",
        "outputId": "b6d4131f-eb11-4849-cbd4-052efae49bbd"
      },
      "execution_count": null,
      "outputs": [
        {
          "output_type": "stream",
          "name": "stdout",
          "text": [
            "tf.Tensor(\n",
            "[[0. 0. 0.]\n",
            " [0. 0. 0.]\n",
            " [0. 0. 0.]], shape=(3, 3), dtype=float32)\n",
            "tf.Tensor(\n",
            "[[1. 1. 1.]\n",
            " [1. 1. 1.]\n",
            " [1. 1. 1.]], shape=(3, 3), dtype=float32)\n"
          ]
        }
      ]
    },
    {
      "cell_type": "markdown",
      "source": [
        "## Converting Numpy arrays into Tensors"
      ],
      "metadata": {
        "id": "33wVNARwQDG6"
      }
    },
    {
      "cell_type": "code",
      "source": [
        "import numpy as np\n",
        "numpy_arr = np.arange(1,25, dtype=np.int32)\n",
        "print(numpy_arr)\n",
        "\n",
        "print(\"\\n### Printing np_tensor1: ###\")\n",
        "np_tensor1 = tf.constant(numpy_arr)\n",
        "print(np_tensor1)\n",
        "\n",
        "print(\"\\n### Printing np_tensor2: ###\")\n",
        "np_tensor2 = tf.constant(numpy_arr, shape=(2,3,4))\n",
        "print(np_tensor2)\n"
      ],
      "metadata": {
        "colab": {
          "base_uri": "https://localhost:8080/"
        },
        "id": "_eYBYcsvP7Tj",
        "outputId": "372656b6-6e96-4f67-e5e2-68a37037d8a5"
      },
      "execution_count": null,
      "outputs": [
        {
          "output_type": "stream",
          "name": "stdout",
          "text": [
            "[ 1  2  3  4  5  6  7  8  9 10 11 12 13 14 15 16 17 18 19 20 21 22 23 24]\n",
            "\n",
            "### Printing np_tensor1: ###\n",
            "tf.Tensor([ 1  2  3  4  5  6  7  8  9 10 11 12 13 14 15 16 17 18 19 20 21 22 23 24], shape=(24,), dtype=int32)\n",
            "\n",
            "### Printing np_tensor2: ###\n",
            "tf.Tensor(\n",
            "[[[ 1  2  3  4]\n",
            "  [ 5  6  7  8]\n",
            "  [ 9 10 11 12]]\n",
            "\n",
            " [[13 14 15 16]\n",
            "  [17 18 19 20]\n",
            "  [21 22 23 24]]], shape=(2, 3, 4), dtype=int32)\n"
          ]
        }
      ]
    },
    {
      "cell_type": "markdown",
      "source": [
        "# Information from Tensors"
      ],
      "metadata": {
        "id": "vbrIf9ivQ8f0"
      }
    },
    {
      "cell_type": "markdown",
      "source": [
        "### **Shape** (``` tensor.shape ```): Shape represents the length of each dimensions of a tensor.\n",
        "\n",
        "### **Ranks** (``` tensor.ndim ```):\n",
        "*  Scalar is rank 0\n",
        "*  Vector is rank 1\n",
        "*  Matrix is rank 2\n",
        "*  Tensor is rank n\n",
        "\n",
        "### **Axis or dimension** (```tensor[0], tensor[:,1]```): A particular dimension of a tensor\n",
        "\n",
        "### **Size** (```tf.size(tensor)```): This function will show the total number of items in the tensor.\n",
        "\n"
      ],
      "metadata": {
        "id": "HSPFqTHS7PKb"
      }
    },
    {
      "cell_type": "code",
      "source": [
        "tensor_rank4 = tf.zeros(shape=(2,3,4,5))\n",
        "print(tensor_rank4)"
      ],
      "metadata": {
        "id": "T9PCFcGhQMg1",
        "colab": {
          "base_uri": "https://localhost:8080/"
        },
        "outputId": "c4b5c339-91ea-4356-8fa7-3058c5cb4622"
      },
      "execution_count": null,
      "outputs": [
        {
          "output_type": "stream",
          "name": "stdout",
          "text": [
            "tf.Tensor(\n",
            "[[[[0. 0. 0. 0. 0.]\n",
            "   [0. 0. 0. 0. 0.]\n",
            "   [0. 0. 0. 0. 0.]\n",
            "   [0. 0. 0. 0. 0.]]\n",
            "\n",
            "  [[0. 0. 0. 0. 0.]\n",
            "   [0. 0. 0. 0. 0.]\n",
            "   [0. 0. 0. 0. 0.]\n",
            "   [0. 0. 0. 0. 0.]]\n",
            "\n",
            "  [[0. 0. 0. 0. 0.]\n",
            "   [0. 0. 0. 0. 0.]\n",
            "   [0. 0. 0. 0. 0.]\n",
            "   [0. 0. 0. 0. 0.]]]\n",
            "\n",
            "\n",
            " [[[0. 0. 0. 0. 0.]\n",
            "   [0. 0. 0. 0. 0.]\n",
            "   [0. 0. 0. 0. 0.]\n",
            "   [0. 0. 0. 0. 0.]]\n",
            "\n",
            "  [[0. 0. 0. 0. 0.]\n",
            "   [0. 0. 0. 0. 0.]\n",
            "   [0. 0. 0. 0. 0.]\n",
            "   [0. 0. 0. 0. 0.]]\n",
            "\n",
            "  [[0. 0. 0. 0. 0.]\n",
            "   [0. 0. 0. 0. 0.]\n",
            "   [0. 0. 0. 0. 0.]\n",
            "   [0. 0. 0. 0. 0.]]]], shape=(2, 3, 4, 5), dtype=float32)\n"
          ]
        }
      ]
    },
    {
      "cell_type": "code",
      "source": [
        "print(\" Datatype of every element:\", tensor_rank4.dtype)\n",
        "print(\" Number of dimensions (rank):\", tensor_rank4.ndim)\n",
        "print(\" Shape of tensor:\", tensor_rank4.shape)\n",
        "print(\" Elements along axis 0 of tensor:\", tensor_rank4.shape[0])\n",
        "print(\" Elements along last axis of tensor:\", tensor_rank4.shape[-1])\n",
        "print(\" Total number of elements in our tensor:\", tf.size(tensor_rank4))\n",
        "print(\" Total number of elements in our tensor:\", tf.size(tensor_rank4).numpy())"
      ],
      "metadata": {
        "colab": {
          "base_uri": "https://localhost:8080/"
        },
        "id": "VSUprH3_8trd",
        "outputId": "067fa6c3-7e34-464f-805d-2d67632d2a46"
      },
      "execution_count": null,
      "outputs": [
        {
          "output_type": "stream",
          "name": "stdout",
          "text": [
            " Datatype of every element: <dtype: 'float32'>\n",
            " Number of dimensions (rank): 4\n",
            " Shape of tensor: (2, 3, 4, 5)\n",
            " Elements along axis 0 of tensor: 2\n",
            " Elements along last axis of tensor: 5\n",
            " Total number of elements in our tensor: tf.Tensor(120, shape=(), dtype=int32)\n",
            " Total number of elements in our tensor: 120\n"
          ]
        }
      ]
    },
    {
      "cell_type": "markdown",
      "source": [
        "## Indexing Tensors"
      ],
      "metadata": {
        "id": "rIby0jUBp8Zi"
      }
    },
    {
      "cell_type": "code",
      "source": [
        "print(tensor_rank4[:2,:2,:2,:2])"
      ],
      "metadata": {
        "colab": {
          "base_uri": "https://localhost:8080/"
        },
        "id": "Lb8pDApZ-MgC",
        "outputId": "10f85302-d034-4792-a46d-2b73b467b713"
      },
      "execution_count": null,
      "outputs": [
        {
          "output_type": "stream",
          "name": "stdout",
          "text": [
            "tf.Tensor(\n",
            "[[[[0. 0.]\n",
            "   [0. 0.]]\n",
            "\n",
            "  [[0. 0.]\n",
            "   [0. 0.]]]\n",
            "\n",
            "\n",
            " [[[0. 0.]\n",
            "   [0. 0.]]\n",
            "\n",
            "  [[0. 0.]\n",
            "   [0. 0.]]]], shape=(2, 2, 2, 2), dtype=float32)\n"
          ]
        }
      ]
    },
    {
      "cell_type": "code",
      "source": [
        "tensor_rank2 = tf.constant([[1,2,3],\n",
        "                            [4,5,6]])\n",
        "print(tensor_rank2)"
      ],
      "metadata": {
        "colab": {
          "base_uri": "https://localhost:8080/"
        },
        "id": "g-bRIvd1qL-L",
        "outputId": "e2a4128b-5a60-4b78-b7da-2f44ee964ab3"
      },
      "execution_count": null,
      "outputs": [
        {
          "output_type": "stream",
          "name": "stdout",
          "text": [
            "tf.Tensor(\n",
            "[[1 2 3]\n",
            " [4 5 6]], shape=(2, 3), dtype=int32)\n"
          ]
        }
      ]
    },
    {
      "cell_type": "code",
      "source": [
        "print(tensor_rank2[:,-1])"
      ],
      "metadata": {
        "colab": {
          "base_uri": "https://localhost:8080/"
        },
        "id": "Z1_y_UfGrI0m",
        "outputId": "705c2e50-6e33-4ce7-b7c6-81fbaa2fd97a"
      },
      "execution_count": null,
      "outputs": [
        {
          "output_type": "stream",
          "name": "stdout",
          "text": [
            "tf.Tensor([3 6], shape=(2,), dtype=int32)\n"
          ]
        }
      ]
    },
    {
      "cell_type": "markdown",
      "source": [
        "## Tensor Dimension Expansion"
      ],
      "metadata": {
        "id": "NTMBFIXIsQot"
      }
    },
    {
      "cell_type": "code",
      "source": [
        "tf.expand_dims(tensor_rank2, axis=-1)"
      ],
      "metadata": {
        "colab": {
          "base_uri": "https://localhost:8080/"
        },
        "id": "KVYdLq6Ard24",
        "outputId": "e885f1b3-2258-4473-b683-7a409681d177"
      },
      "execution_count": null,
      "outputs": [
        {
          "output_type": "execute_result",
          "data": {
            "text/plain": [
              "<tf.Tensor: shape=(2, 3, 1), dtype=int32, numpy=\n",
              "array([[[1],\n",
              "        [2],\n",
              "        [3]],\n",
              "\n",
              "       [[4],\n",
              "        [5],\n",
              "        [6]]], dtype=int32)>"
            ]
          },
          "metadata": {},
          "execution_count": 20
        }
      ]
    },
    {
      "cell_type": "code",
      "source": [
        "tf.expand_dims(tensor_rank2, axis=0)"
      ],
      "metadata": {
        "colab": {
          "base_uri": "https://localhost:8080/"
        },
        "id": "eccjj_u5sCBB",
        "outputId": "7377bc92-e2f2-40e0-a974-0d3222346ebf"
      },
      "execution_count": null,
      "outputs": [
        {
          "output_type": "execute_result",
          "data": {
            "text/plain": [
              "<tf.Tensor: shape=(1, 2, 3), dtype=int32, numpy=\n",
              "array([[[1, 2, 3],\n",
              "        [4, 5, 6]]], dtype=int32)>"
            ]
          },
          "metadata": {},
          "execution_count": 21
        }
      ]
    },
    {
      "cell_type": "markdown",
      "source": [
        "# Tensor Manipulation"
      ],
      "metadata": {
        "id": "p3uLuupPE-dx"
      }
    },
    {
      "cell_type": "markdown",
      "source": [
        "### Basic Operations (```+ - * /```)"
      ],
      "metadata": {
        "id": "K8btiqctFNMg"
      }
    },
    {
      "cell_type": "code",
      "source": [
        "my_tensor = tf.constant([[1,2,3],\n",
        "                         [4,5,6],\n",
        "                         [7,8,9]])\n",
        "print(my_tensor + 10)\n",
        "print(my_tensor * 10)\n",
        "print(my_tensor / 10)\n",
        "print(my_tensor - 10)"
      ],
      "metadata": {
        "id": "yUEAQq6BsFwP",
        "colab": {
          "base_uri": "https://localhost:8080/"
        },
        "outputId": "19f9be5b-1be9-43bd-8c32-71045ad3aff7"
      },
      "execution_count": null,
      "outputs": [
        {
          "output_type": "stream",
          "name": "stdout",
          "text": [
            "tf.Tensor(\n",
            "[[11 12 13]\n",
            " [14 15 16]\n",
            " [17 18 19]], shape=(3, 3), dtype=int32)\n",
            "tf.Tensor(\n",
            "[[10 20 30]\n",
            " [40 50 60]\n",
            " [70 80 90]], shape=(3, 3), dtype=int32)\n",
            "tf.Tensor(\n",
            "[[0.1 0.2 0.3]\n",
            " [0.4 0.5 0.6]\n",
            " [0.7 0.8 0.9]], shape=(3, 3), dtype=float64)\n",
            "tf.Tensor(\n",
            "[[-9 -8 -7]\n",
            " [-6 -5 -4]\n",
            " [-3 -2 -1]], shape=(3, 3), dtype=int32)\n"
          ]
        }
      ]
    },
    {
      "cell_type": "markdown",
      "source": [
        "### Using tf.multiply for multiplication"
      ],
      "metadata": {
        "id": "zdIK7oZkJnrL"
      }
    },
    {
      "cell_type": "code",
      "source": [
        "print(my_tensor*10)\n",
        "print(tf.multiply(my_tensor,10))"
      ],
      "metadata": {
        "colab": {
          "base_uri": "https://localhost:8080/"
        },
        "id": "-2Ls6IAuFhdv",
        "outputId": "449ebb42-4567-4835-e9b7-3b019765b924"
      },
      "execution_count": null,
      "outputs": [
        {
          "output_type": "stream",
          "name": "stdout",
          "text": [
            "tf.Tensor(\n",
            "[[10 20 30]\n",
            " [40 50 60]\n",
            " [70 80 90]], shape=(3, 3), dtype=int32)\n",
            "tf.Tensor(\n",
            "[[10 20 30]\n",
            " [40 50 60]\n",
            " [70 80 90]], shape=(3, 3), dtype=int32)\n"
          ]
        }
      ]
    },
    {
      "cell_type": "markdown",
      "source": [
        "### Matrix multipliation\n",
        "We can do matrix multiplication using the following methods,<br>\n",
        "➡️ ```tf.matmul(tensor1, tensor2)``` <br>\n",
        "➡️ ```tensor1 @ tensor2```"
      ],
      "metadata": {
        "id": "ZbhIyZb_Jrri"
      }
    },
    {
      "cell_type": "code",
      "source": [
        "print(my_tensor)\n",
        "print(tf.matmul(my_tensor, my_tensor)) # Method-1\n",
        "print(my_tensor @ my_tensor) # Method-2"
      ],
      "metadata": {
        "colab": {
          "base_uri": "https://localhost:8080/"
        },
        "id": "eIM3sUd-Gnik",
        "outputId": "07109cc5-f98e-4c3c-e53a-f7c132d8bb0d"
      },
      "execution_count": null,
      "outputs": [
        {
          "output_type": "stream",
          "name": "stdout",
          "text": [
            "tf.Tensor(\n",
            "[[1 2 3]\n",
            " [4 5 6]\n",
            " [7 8 9]], shape=(3, 3), dtype=int32)\n",
            "tf.Tensor(\n",
            "[[ 30  36  42]\n",
            " [ 66  81  96]\n",
            " [102 126 150]], shape=(3, 3), dtype=int32)\n",
            "tf.Tensor(\n",
            "[[ 30  36  42]\n",
            " [ 66  81  96]\n",
            " [102 126 150]], shape=(3, 3), dtype=int32)\n"
          ]
        }
      ]
    },
    {
      "cell_type": "markdown",
      "source": [
        "### Reshape and Transpose"
      ],
      "metadata": {
        "id": "KhhUDiQHNf30"
      }
    },
    {
      "cell_type": "code",
      "source": [
        "print(tf.reshape(my_tensor, shape=(1,9)))\n",
        "print(tf.transpose(my_tensor))"
      ],
      "metadata": {
        "colab": {
          "base_uri": "https://localhost:8080/"
        },
        "id": "VRfOgNZhJyF3",
        "outputId": "a88f1445-3f35-4b91-c4f6-66735fbbbf5b"
      },
      "execution_count": null,
      "outputs": [
        {
          "output_type": "stream",
          "name": "stdout",
          "text": [
            "tf.Tensor([[1 2 3 4 5 6 7 8 9]], shape=(1, 9), dtype=int32)\n",
            "tf.Tensor(\n",
            "[[1 4 7]\n",
            " [2 5 8]\n",
            " [3 6 9]], shape=(3, 3), dtype=int32)\n"
          ]
        }
      ]
    },
    {
      "cell_type": "markdown",
      "source": [
        "### Dot Product of Matrices\n",
        "➡️To perform the dot product we need to use ```tf.tensordot()```"
      ],
      "metadata": {
        "id": "MtPYsVnSOIEC"
      }
    },
    {
      "cell_type": "code",
      "source": [
        "print(tf.tensordot(my_tensor, my_tensor, axes=1))\n",
        "print(\"###########################################\")\n",
        "print(tf.tensordot(my_tensor, my_tensor, axes=0))"
      ],
      "metadata": {
        "colab": {
          "base_uri": "https://localhost:8080/"
        },
        "id": "e5s6ZLapM0Z_",
        "outputId": "661e9bba-a222-4df5-f339-06861e949940"
      },
      "execution_count": null,
      "outputs": [
        {
          "output_type": "stream",
          "name": "stdout",
          "text": [
            "tf.Tensor(\n",
            "[[ 30  36  42]\n",
            " [ 66  81  96]\n",
            " [102 126 150]], shape=(3, 3), dtype=int32)\n",
            "###########################################\n",
            "tf.Tensor(\n",
            "[[[[ 1  2  3]\n",
            "   [ 4  5  6]\n",
            "   [ 7  8  9]]\n",
            "\n",
            "  [[ 2  4  6]\n",
            "   [ 8 10 12]\n",
            "   [14 16 18]]\n",
            "\n",
            "  [[ 3  6  9]\n",
            "   [12 15 18]\n",
            "   [21 24 27]]]\n",
            "\n",
            "\n",
            " [[[ 4  8 12]\n",
            "   [16 20 24]\n",
            "   [28 32 36]]\n",
            "\n",
            "  [[ 5 10 15]\n",
            "   [20 25 30]\n",
            "   [35 40 45]]\n",
            "\n",
            "  [[ 6 12 18]\n",
            "   [24 30 36]\n",
            "   [42 48 54]]]\n",
            "\n",
            "\n",
            " [[[ 7 14 21]\n",
            "   [28 35 42]\n",
            "   [49 56 63]]\n",
            "\n",
            "  [[ 8 16 24]\n",
            "   [32 40 48]\n",
            "   [56 64 72]]\n",
            "\n",
            "  [[ 9 18 27]\n",
            "   [36 45 54]\n",
            "   [63 72 81]]]], shape=(3, 3, 3, 3), dtype=int32)\n"
          ]
        }
      ]
    },
    {
      "cell_type": "markdown",
      "source": [
        "Let's assume we are working with two (3,2) tensors or matrices. As we cannot multiply these two because of their mismatched dimension we need to change their dimension either using Transpose or Reshape. In that case, it is better to transpose a tensor/matrix rather than reshaping it.\n",
        "\n",
        "---"
      ],
      "metadata": {
        "id": "-US5PudRQLH6"
      }
    },
    {
      "cell_type": "markdown",
      "source": [
        "### Changing the datatype of tensor"
      ],
      "metadata": {
        "id": "v_cdW7EuQzun"
      }
    },
    {
      "cell_type": "code",
      "source": [
        "tensor_a = tf.constant([1,2,3,4,5])\n",
        "tensor_b = tf.constant([1.1, 2.2, 3.3, 4.4])\n",
        "\n",
        "print(tensor_a)\n",
        "print(tensor_b)\n",
        "print(tensor_a.dtype)\n",
        "print(tensor_b.dtype)\n",
        "\n",
        "tensor_a = tf.cast(tensor_a, dtype=tf.float16)\n",
        "tensor_b = tf.cast(tensor_b, dtype=tf.int16)\n",
        "\n",
        "print(tensor_a)\n",
        "print(tensor_b)\n",
        "print(tensor_a.dtype)\n",
        "print(tensor_b.dtype)"
      ],
      "metadata": {
        "id": "S19NpzUJPH-b",
        "colab": {
          "base_uri": "https://localhost:8080/"
        },
        "outputId": "b08e9906-2399-40d4-9bfb-43d9ea8c97fb"
      },
      "execution_count": null,
      "outputs": [
        {
          "output_type": "stream",
          "name": "stdout",
          "text": [
            "tf.Tensor([1 2 3 4 5], shape=(5,), dtype=int32)\n",
            "tf.Tensor([1.1 2.2 3.3 4.4], shape=(4,), dtype=float32)\n",
            "<dtype: 'int32'>\n",
            "<dtype: 'float32'>\n",
            "tf.Tensor([1. 2. 3. 4. 5.], shape=(5,), dtype=float16)\n",
            "tf.Tensor([1 2 3 4], shape=(4,), dtype=int16)\n",
            "<dtype: 'float16'>\n",
            "<dtype: 'int16'>\n"
          ]
        }
      ]
    },
    {
      "cell_type": "markdown",
      "source": [
        "### Tensors Aggregation\n",
        "-> Condensing them from multiple values down to a smaller amount of values."
      ],
      "metadata": {
        "id": "ps7wdYDWWj8s"
      }
    },
    {
      "cell_type": "code",
      "source": [
        "tensor_c = tf.constant([1,-2,3])\n",
        "print(tf.abs(tensor_c))"
      ],
      "metadata": {
        "colab": {
          "base_uri": "https://localhost:8080/"
        },
        "id": "h_9Bwe2TVP3z",
        "outputId": "47507e36-eaf1-4126-cb7e-551a945a594f"
      },
      "execution_count": null,
      "outputs": [
        {
          "output_type": "stream",
          "name": "stdout",
          "text": [
            "tf.Tensor([1 2 3], shape=(3,), dtype=int32)\n"
          ]
        }
      ]
    },
    {
      "cell_type": "markdown",
      "source": [
        "### Getting Maximum Value"
      ],
      "metadata": {
        "id": "ugq5muKUXBwq"
      }
    },
    {
      "cell_type": "code",
      "source": [
        "tensor_d = tf.constant(np.random.randint(0,100, size=50))\n",
        "print(tensor_d)\n",
        "print(\"#################################################\")\n",
        "print(tf.reduce_max(tensor_d))"
      ],
      "metadata": {
        "colab": {
          "base_uri": "https://localhost:8080/"
        },
        "id": "_rO_D2fEW1uY",
        "outputId": "bf01fa0d-9641-4498-c958-ff5b1b39c6ee"
      },
      "execution_count": null,
      "outputs": [
        {
          "output_type": "stream",
          "name": "stdout",
          "text": [
            "tf.Tensor(\n",
            "[17 14 86 32 46 14 40 63 17 94 74 72 77 64 12 78 21  3 31 21 88 37 22 93\n",
            " 91 30 16 68  2 93 63 94 58 40 96 24 91 65 52 24  9 21 94  1 87 84 38  2\n",
            "  1 65], shape=(50,), dtype=int64)\n",
            "#################################################\n",
            "tf.Tensor(96, shape=(), dtype=int64)\n"
          ]
        }
      ]
    },
    {
      "cell_type": "markdown",
      "source": [
        "### Getting Minimum Value"
      ],
      "metadata": {
        "id": "zqhevyGXXFRa"
      }
    },
    {
      "cell_type": "code",
      "source": [
        "tensor_d = tf.constant(np.random.randint(0,100, size=50))\n",
        "print(tensor_d)\n",
        "print(\"#################################################\")\n",
        "print(tf.reduce_min(tensor_d))"
      ],
      "metadata": {
        "colab": {
          "base_uri": "https://localhost:8080/"
        },
        "id": "CvNtV7oIXHTM",
        "outputId": "f50cdd64-41fa-4663-de8b-63b15de86493"
      },
      "execution_count": null,
      "outputs": [
        {
          "output_type": "stream",
          "name": "stdout",
          "text": [
            "tf.Tensor(\n",
            "[82 99 89 39 88 12  4 35 65 42 76 85 25 16 55 46 46  4 47 52  6 44 30  6\n",
            " 80 81 53 10 77 58 97 12 86 88 80 15  6 82 42 42 85 20 68 74 51 50 43 22\n",
            " 30 87], shape=(50,), dtype=int64)\n",
            "#################################################\n",
            "tf.Tensor(4, shape=(), dtype=int64)\n"
          ]
        }
      ]
    },
    {
      "cell_type": "markdown",
      "source": [
        "### Getting Mean of a Tensor"
      ],
      "metadata": {
        "id": "CJexDmExXH2E"
      }
    },
    {
      "cell_type": "code",
      "source": [
        "print(tf.reduce_mean(tensor_d))"
      ],
      "metadata": {
        "colab": {
          "base_uri": "https://localhost:8080/"
        },
        "id": "fYf9q0ILXKxB",
        "outputId": "11be9819-791c-4490-d597-5b3ea98620f3"
      },
      "execution_count": null,
      "outputs": [
        {
          "output_type": "stream",
          "name": "stdout",
          "text": [
            "tf.Tensor(50, shape=(), dtype=int64)\n"
          ]
        }
      ]
    },
    {
      "cell_type": "markdown",
      "source": [
        "### Getting Sum of a Tensor"
      ],
      "metadata": {
        "id": "o03MWB10XLVg"
      }
    },
    {
      "cell_type": "code",
      "source": [
        "tf.reduce_sum(tensor_d) # The numpy = __ is the sum!"
      ],
      "metadata": {
        "colab": {
          "base_uri": "https://localhost:8080/"
        },
        "id": "G8r3AMHOXNE2",
        "outputId": "0a2f9388-4bac-4b98-edfb-b7c50d2ed580"
      },
      "execution_count": null,
      "outputs": [
        {
          "output_type": "execute_result",
          "data": {
            "text/plain": [
              "<tf.Tensor: shape=(), dtype=int64, numpy=2532>"
            ]
          },
          "metadata": {},
          "execution_count": 32
        }
      ]
    },
    {
      "cell_type": "markdown",
      "source": [
        "### Finding Variance of a Tensor"
      ],
      "metadata": {
        "id": "UvdKU54gcK0A"
      }
    },
    {
      "cell_type": "code",
      "source": [
        "tfp.stats.variance(tensor_d)"
      ],
      "metadata": {
        "colab": {
          "base_uri": "https://localhost:8080/"
        },
        "id": "UIUL-ZZ3XyMM",
        "outputId": "7ba271b5-cadb-4cd0-ffd6-c9a50661ef6f"
      },
      "execution_count": null,
      "outputs": [
        {
          "output_type": "execute_result",
          "data": {
            "text/plain": [
              "<tf.Tensor: shape=(), dtype=int64, numpy=845>"
            ]
          },
          "metadata": {},
          "execution_count": 33
        }
      ]
    },
    {
      "cell_type": "markdown",
      "source": [
        "### Finding Standard Deviance of a Tensor"
      ],
      "metadata": {
        "id": "0n-AmO9TcraH"
      }
    },
    {
      "cell_type": "code",
      "source": [
        "tensor_d = tf.cast(tensor_d,dtype = tf.float32)\n",
        "tf.math.reduce_std(tensor_d)"
      ],
      "metadata": {
        "colab": {
          "base_uri": "https://localhost:8080/"
        },
        "id": "tDVF-P4RcgMh",
        "outputId": "299e440e-c356-47e3-b8e7-4d5c6c9102d7"
      },
      "execution_count": null,
      "outputs": [
        {
          "output_type": "execute_result",
          "data": {
            "text/plain": [
              "<tf.Tensor: shape=(), dtype=float32, numpy=29.064590454101562>"
            ]
          },
          "metadata": {},
          "execution_count": 34
        }
      ]
    },
    {
      "cell_type": "markdown",
      "source": [
        "### Finding the postion/index of max and min"
      ],
      "metadata": {
        "id": "yKGUZza8epiD"
      }
    },
    {
      "cell_type": "code",
      "source": [
        "tf.random.set_seed(42)\n",
        "tensor_e = tf.random.uniform(shape=[50])\n",
        "print(tensor_e)\n",
        "print(\"#################################################\")\n",
        "print(tf.argmax(tensor_e))\n",
        "print(tensor_e[tf.argmax(tensor_e)])\n",
        "print(\"#################################################\")\n",
        "print(tf.argmin(tensor_e))\n",
        "print(tensor_e[tf.argmin(tensor_e)])"
      ],
      "metadata": {
        "colab": {
          "base_uri": "https://localhost:8080/"
        },
        "id": "5PWHOcTndFtJ",
        "outputId": "5cd0709f-60aa-4f55-fe10-ce6bfb480129"
      },
      "execution_count": null,
      "outputs": [
        {
          "output_type": "stream",
          "name": "stdout",
          "text": [
            "tf.Tensor(\n",
            "[0.6645621  0.44100678 0.3528825  0.46448255 0.03366041 0.68467236\n",
            " 0.74011743 0.8724445  0.22632635 0.22319686 0.3103881  0.7223358\n",
            " 0.13318717 0.5480639  0.5746088  0.8996835  0.00946367 0.5212307\n",
            " 0.6345445  0.1993283  0.72942245 0.54583454 0.10756552 0.6767061\n",
            " 0.6602763  0.33695042 0.60141766 0.21062577 0.8527372  0.44062173\n",
            " 0.9485276  0.23752594 0.81179297 0.5263394  0.494308   0.21612847\n",
            " 0.8457197  0.8718841  0.3083862  0.6868038  0.23764038 0.7817228\n",
            " 0.9671384  0.06870162 0.79873943 0.66028714 0.5871513  0.16461694\n",
            " 0.7381023  0.32054043], shape=(50,), dtype=float32)\n",
            "#################################################\n",
            "tf.Tensor(42, shape=(), dtype=int64)\n",
            "tf.Tensor(0.9671384, shape=(), dtype=float32)\n",
            "#################################################\n",
            "tf.Tensor(16, shape=(), dtype=int64)\n",
            "tf.Tensor(0.009463668, shape=(), dtype=float32)\n"
          ]
        }
      ]
    },
    {
      "cell_type": "markdown",
      "source": [
        "### Removing all single dimensions in a Tensor"
      ],
      "metadata": {
        "id": "6TfDX7Ixgoxm"
      }
    },
    {
      "cell_type": "code",
      "source": [
        "tensor_f = tf.constant(tf.random.uniform(shape=[50]), shape=(1,1,1,1,50))\n",
        "print(tensor_f)\n",
        "print(\"#############################\")\n",
        "print(tensor_f.shape)"
      ],
      "metadata": {
        "colab": {
          "base_uri": "https://localhost:8080/"
        },
        "id": "sG5DxNhVe5Cs",
        "outputId": "eb6e499e-4385-47e2-c14a-35b4ae65f586"
      },
      "execution_count": null,
      "outputs": [
        {
          "output_type": "stream",
          "name": "stdout",
          "text": [
            "tf.Tensor(\n",
            "[[[[[0.68789124 0.48447883 0.9309944  0.252187   0.73115396 0.89256823\n",
            "     0.94674826 0.7493341  0.34925628 0.54718256 0.26160395 0.69734323\n",
            "     0.11962581 0.53484344 0.7148968  0.87501776 0.33967495 0.17377627\n",
            "     0.4418521  0.9008261  0.13803864 0.12217975 0.5754491  0.9417181\n",
            "     0.9186585  0.59708476 0.6109482  0.82086265 0.83269787 0.8915849\n",
            "     0.01377225 0.49807465 0.57503664 0.6856195  0.75972784 0.908944\n",
            "     0.40900218 0.8765154  0.53890026 0.42733097 0.401173   0.66623247\n",
            "     0.16348064 0.18220246 0.97040176 0.06139731 0.53034747 0.9869994\n",
            "     0.4746945  0.8646754 ]]]]], shape=(1, 1, 1, 1, 50), dtype=float32)\n",
            "#############################\n",
            "(1, 1, 1, 1, 50)\n"
          ]
        }
      ]
    },
    {
      "cell_type": "code",
      "source": [
        "squeezed_tensor_f = tf.squeeze(tensor_f)\n",
        "print(squeezed_tensor_f)\n",
        "print(\"#############################\")\n",
        "print(squeezed_tensor_f.shape)"
      ],
      "metadata": {
        "colab": {
          "base_uri": "https://localhost:8080/"
        },
        "id": "rFrkcFohg48M",
        "outputId": "878309cd-4ffe-4cef-da1f-dd0fe8e83ad6"
      },
      "execution_count": null,
      "outputs": [
        {
          "output_type": "stream",
          "name": "stdout",
          "text": [
            "tf.Tensor(\n",
            "[0.68789124 0.48447883 0.9309944  0.252187   0.73115396 0.89256823\n",
            " 0.94674826 0.7493341  0.34925628 0.54718256 0.26160395 0.69734323\n",
            " 0.11962581 0.53484344 0.7148968  0.87501776 0.33967495 0.17377627\n",
            " 0.4418521  0.9008261  0.13803864 0.12217975 0.5754491  0.9417181\n",
            " 0.9186585  0.59708476 0.6109482  0.82086265 0.83269787 0.8915849\n",
            " 0.01377225 0.49807465 0.57503664 0.6856195  0.75972784 0.908944\n",
            " 0.40900218 0.8765154  0.53890026 0.42733097 0.401173   0.66623247\n",
            " 0.16348064 0.18220246 0.97040176 0.06139731 0.53034747 0.9869994\n",
            " 0.4746945  0.8646754 ], shape=(50,), dtype=float32)\n",
            "#############################\n",
            "(50,)\n"
          ]
        }
      ]
    },
    {
      "cell_type": "markdown",
      "source": [
        "# One-hot Encoding"
      ],
      "metadata": {
        "id": "DjH_CtVNRzwv"
      }
    },
    {
      "cell_type": "markdown",
      "source": [
        "Simplest way to do on-hot encoding"
      ],
      "metadata": {
        "id": "nNlhbwuqZDB7"
      }
    },
    {
      "cell_type": "code",
      "source": [
        "color_info = {'red':0, 'blue':1, 'green':2}\n",
        "color_list = [0,1,2]\n",
        "tensor_colors = tf.one_hot(color_list, depth=3)\n",
        "print(tensor_colors)"
      ],
      "metadata": {
        "id": "sqixRCMvhGTv",
        "colab": {
          "base_uri": "https://localhost:8080/"
        },
        "outputId": "87b4a0e3-9a67-4582-99d2-4079c6576424"
      },
      "execution_count": null,
      "outputs": [
        {
          "output_type": "stream",
          "name": "stdout",
          "text": [
            "tf.Tensor(\n",
            "[[1. 0. 0.]\n",
            " [0. 1. 0.]\n",
            " [0. 0. 1.]], shape=(3, 3), dtype=float32)\n"
          ]
        }
      ]
    },
    {
      "cell_type": "markdown",
      "source": [
        "Custom \"on value\" and \"off value\" can be selected while doing one-hot encoding, following the method below."
      ],
      "metadata": {
        "id": "duMpwLSaZHna"
      }
    },
    {
      "cell_type": "code",
      "source": [
        "tensor_colors_2 = tf.one_hot(color_list, depth=3, on_value=\"Yes\", off_value=\"No\")\n",
        "print(tensor_colors_2)"
      ],
      "metadata": {
        "colab": {
          "base_uri": "https://localhost:8080/"
        },
        "id": "rRXJ36-9SM4I",
        "outputId": "cc48bcbf-7188-4778-f76f-114a470ac024"
      },
      "execution_count": null,
      "outputs": [
        {
          "output_type": "stream",
          "name": "stdout",
          "text": [
            "tf.Tensor(\n",
            "[[b'Yes' b'No' b'No']\n",
            " [b'No' b'Yes' b'No']\n",
            " [b'No' b'No' b'Yes']], shape=(3, 3), dtype=string)\n"
          ]
        }
      ]
    },
    {
      "cell_type": "markdown",
      "source": [
        "# Mathemetical Operations"
      ],
      "metadata": {
        "id": "iH-1X_rTZoVI"
      }
    },
    {
      "cell_type": "code",
      "source": [
        "my_tensor2 = tf.range(1,11)\n",
        "print(my_tensor2)"
      ],
      "metadata": {
        "colab": {
          "base_uri": "https://localhost:8080/"
        },
        "id": "J0u6avG_Z5Dd",
        "outputId": "9f1fdcd0-2308-4dc6-e6b3-522cc83a0a29"
      },
      "execution_count": null,
      "outputs": [
        {
          "output_type": "stream",
          "name": "stdout",
          "text": [
            "tf.Tensor([ 1  2  3  4  5  6  7  8  9 10], shape=(10,), dtype=int32)\n"
          ]
        }
      ]
    },
    {
      "cell_type": "markdown",
      "source": [
        "### Square Root\n",
        "We need to convert the datatype into float32 before we do the square root of a tensor. Otherwise it will show an error"
      ],
      "metadata": {
        "id": "IQlxhr3XZvsO"
      }
    },
    {
      "cell_type": "code",
      "source": [
        "my_tensor_root = tf.sqrt(tf.cast(my_tensor2, dtype=tf.float32))\n",
        "print(my_tensor_root)"
      ],
      "metadata": {
        "colab": {
          "base_uri": "https://localhost:8080/"
        },
        "id": "szkCRdW6ZvdG",
        "outputId": "ae126607-831b-4eb2-e815-39e5f6875404"
      },
      "execution_count": null,
      "outputs": [
        {
          "output_type": "stream",
          "name": "stdout",
          "text": [
            "tf.Tensor(\n",
            "[1.        1.4142135 1.7320508 2.        2.236068  2.4494898 2.6457512\n",
            " 2.828427  3.        3.1622777], shape=(10,), dtype=float32)\n"
          ]
        }
      ]
    },
    {
      "cell_type": "markdown",
      "source": [
        "### Log\n",
        "We need to convert the datatype into float32 before we try to calculate the log of a tensor. Otherwise, it will show an error."
      ],
      "metadata": {
        "id": "dTwKXBEYZzYA"
      }
    },
    {
      "cell_type": "code",
      "source": [
        "my_tensor_log = tf.math.log(tf.cast(my_tensor2, dtype=tf.float32))\n",
        "print(my_tensor_log)"
      ],
      "metadata": {
        "colab": {
          "base_uri": "https://localhost:8080/"
        },
        "id": "k4jegDo7YpCI",
        "outputId": "5d2d3a51-4314-4892-bf50-0e724b814cb3"
      },
      "execution_count": null,
      "outputs": [
        {
          "output_type": "stream",
          "name": "stdout",
          "text": [
            "tf.Tensor(\n",
            "[0.        0.6931472 1.0986123 1.3862944 1.609438  1.7917595 1.9459102\n",
            " 2.0794415 2.1972246 2.3025851], shape=(10,), dtype=float32)\n"
          ]
        }
      ]
    },
    {
      "cell_type": "markdown",
      "source": [
        "# Tensors and Numpy"
      ],
      "metadata": {
        "id": "sblFqHAma0nl"
      }
    },
    {
      "cell_type": "markdown",
      "source": [
        "### Converting a numpy array into a tensor"
      ],
      "metadata": {
        "id": "oLVkDqd8a3Qk"
      }
    },
    {
      "cell_type": "code",
      "source": [
        "numpy_arr = np.arange(1,11,dtype=np.int32)\n",
        "print(numpy_arr)\n",
        "print(type(numpy_arr))\n",
        "\n",
        "print(\"#################################\")\n",
        "np_to_tensor = tf.constant(numpy_arr)\n",
        "print(np_to_tensor)\n",
        "print(type(np_to_tensor))"
      ],
      "metadata": {
        "colab": {
          "base_uri": "https://localhost:8080/"
        },
        "id": "EbZo6qeQaPyD",
        "outputId": "bbc80f47-724d-4958-9fe1-04072e7f1dae"
      },
      "execution_count": null,
      "outputs": [
        {
          "output_type": "stream",
          "name": "stdout",
          "text": [
            "[ 1  2  3  4  5  6  7  8  9 10]\n",
            "<class 'numpy.ndarray'>\n",
            "#################################\n",
            "tf.Tensor([ 1  2  3  4  5  6  7  8  9 10], shape=(10,), dtype=int32)\n",
            "<class 'tensorflow.python.framework.ops.EagerTensor'>\n"
          ]
        }
      ]
    },
    {
      "cell_type": "markdown",
      "source": [
        "### Converting a tensor back into numpy array"
      ],
      "metadata": {
        "id": "Oik_xb2ObV7N"
      }
    },
    {
      "cell_type": "code",
      "source": [
        "tensor_to_numpy = np.array(np_to_tensor)\n",
        "print(tensor_to_numpy)\n",
        "print(type(tensor_to_numpy))"
      ],
      "metadata": {
        "colab": {
          "base_uri": "https://localhost:8080/"
        },
        "id": "PIltysR2a_o_",
        "outputId": "b1d71fec-339a-48bc-a265-15df6f6294e0"
      },
      "execution_count": null,
      "outputs": [
        {
          "output_type": "stream",
          "name": "stdout",
          "text": [
            "[ 1  2  3  4  5  6  7  8  9 10]\n",
            "<class 'numpy.ndarray'>\n"
          ]
        }
      ]
    },
    {
      "cell_type": "markdown",
      "source": [
        "### Finding Access to GPU"
      ],
      "metadata": {
        "id": "bA4GxznzjeeS"
      }
    },
    {
      "cell_type": "code",
      "source": [
        "tf.config.list_physical_devices()"
      ],
      "metadata": {
        "colab": {
          "base_uri": "https://localhost:8080/"
        },
        "id": "Fo-sIhKXbn2P",
        "outputId": "bf095aec-bc4b-492d-9a17-ae1d576e3f92"
      },
      "execution_count": null,
      "outputs": [
        {
          "output_type": "execute_result",
          "data": {
            "text/plain": [
              "[PhysicalDevice(name='/physical_device:CPU:0', device_type='CPU'),\n",
              " PhysicalDevice(name='/physical_device:TPU_SYSTEM:0', device_type='TPU_SYSTEM'),\n",
              " PhysicalDevice(name='/physical_device:TPU:0', device_type='TPU'),\n",
              " PhysicalDevice(name='/physical_device:TPU:1', device_type='TPU'),\n",
              " PhysicalDevice(name='/physical_device:TPU:2', device_type='TPU'),\n",
              " PhysicalDevice(name='/physical_device:TPU:3', device_type='TPU'),\n",
              " PhysicalDevice(name='/physical_device:TPU:4', device_type='TPU'),\n",
              " PhysicalDevice(name='/physical_device:TPU:5', device_type='TPU'),\n",
              " PhysicalDevice(name='/physical_device:TPU:6', device_type='TPU'),\n",
              " PhysicalDevice(name='/physical_device:TPU:7', device_type='TPU')]"
            ]
          },
          "metadata": {},
          "execution_count": 45
        }
      ]
    },
    {
      "cell_type": "code",
      "source": [],
      "metadata": {
        "id": "AKzQrkJbjdgR"
      },
      "execution_count": null,
      "outputs": []
    },
    {
      "cell_type": "code",
      "source": [],
      "metadata": {
        "id": "3eCvuE7cjc37"
      },
      "execution_count": null,
      "outputs": []
    }
  ]
}